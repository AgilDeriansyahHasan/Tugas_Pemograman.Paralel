{
 "cells": [
  {
   "cell_type": "code",
   "execution_count": null,
   "metadata": {},
   "outputs": [],
   "source": [
    "import time\n",
    "from concurrent.futures import ThreadPoolExecutor\n",
    "\n",
    "# Fungsi untuk mencetak angka dengan delay\n",
    "def print_number(n):\n",
    "    time.sleep(1)\n",
    "    print(f\"Number: {n}\")\n",
    "\n",
    "# Membuat thread pool dengan maksimal 3 worker\n",
    "with ThreadPoolExecutor(max_workers=3) as executor:\n",
    "    for i in range(1, 11):\n",
    "        executor.submit(print_number, i)\n",
    "\n",
    "print(\"All tasks have been submitted.\")\n"
   ]
  }
 ],
 "metadata": {
  "language_info": {
   "name": "python"
  }
 },
 "nbformat": 4,
 "nbformat_minor": 2
}
