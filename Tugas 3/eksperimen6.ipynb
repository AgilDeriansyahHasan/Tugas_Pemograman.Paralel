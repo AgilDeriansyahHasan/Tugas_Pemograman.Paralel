{
 "cells": [
  {
   "cell_type": "code",
   "execution_count": null,
   "metadata": {},
   "outputs": [],
   "source": [
    "import threading\n",
    "import time\n",
    "import queue\n",
    "\n",
    "# Fungsi untuk menambahkan angka ke dalam queue\n",
    "def add_to_queue(q):\n",
    "    for i in range(1, 6):\n",
    "        time.sleep(1)\n",
    "        q.put(i)\n",
    "        print(f\"Added {i} to queue\")\n",
    "\n",
    "# Fungsi untuk mengambil angka dari queue\n",
    "def consume_from_queue(q):\n",
    "    while not q.empty() or thread1.is_alive():  # Menunggu hingga thread1 selesai\n",
    "        try:\n",
    "            item = q.get(timeout=1)\n",
    "            print(f\"Consumed {item} from queue\")\n",
    "        except queue.Empty:\n",
    "            pass\n",
    "\n",
    "# Membuat queue\n",
    "q = queue.Queue()\n",
    "\n",
    "# Membuat thread\n",
    "thread1 = threading.Thread(target=add_to_queue, args=(q,))\n",
    "thread2 = threading.Thread(target=consume_from_queue, args=(q,))\n",
    "\n",
    "# Memulai thread\n",
    "print(\"Starting threads...\")\n",
    "thread1.start()\n",
    "thread2.start()\n",
    "\n",
    "# Menunggu thread selesai\n",
    "thread1.join()\n",
    "thread2.join()\n",
    "\n",
    "print(\"Both threads have finished execution.\")\n"
   ]
  }
 ],
 "metadata": {
  "language_info": {
   "name": "python"
  }
 },
 "nbformat": 4,
 "nbformat_minor": 2
}
