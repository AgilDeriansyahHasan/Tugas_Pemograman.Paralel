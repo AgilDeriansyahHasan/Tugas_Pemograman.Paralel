{
 "cells": [
  {
   "cell_type": "code",
   "execution_count": null,
   "metadata": {},
   "outputs": [],
   "source": [
    "import threading\n",
    "import time\n",
    "\n",
    "# Fungsi untuk menampilkan angka\n",
    "def print_numbers():\n",
    "    try:\n",
    "        for i in range(1, 6):\n",
    "            if i == 3:\n",
    "                raise ValueError(\"Error on number 3!\")\n",
    "            time.sleep(1)\n",
    "            print(f\"Number: {i}\")\n",
    "    except Exception as e:\n",
    "        print(f\"Exception caught in print_numbers: {e}\")\n",
    "\n",
    "# Fungsi untuk menampilkan huruf\n",
    "def print_letters():\n",
    "    try:\n",
    "        for letter in ['A', 'B', 'C', 'D', 'E']:\n",
    "            time.sleep(1.5)\n",
    "            print(f\"Letter: {letter}\")\n",
    "    except Exception as e:\n",
    "        print(f\"Exception caught in print_letters: {e}\")\n",
    "\n",
    "# Membuat dua thread\n",
    "thread1 = threading.Thread(target=print_numbers)\n",
    "thread2 = threading.Thread(target=print_letters)\n",
    "\n",
    "# Memulai thread\n",
    "print(\"Starting threads...\")\n",
    "thread1.start()\n",
    "thread2.start()\n",
    "\n",
    "# Menunggu thread selesai\n",
    "thread1.join()\n",
    "thread2.join()\n",
    "\n",
    "print(\"Both threads have finished execution.\")\n"
   ]
  }
 ],
 "metadata": {
  "language_info": {
   "name": "python"
  }
 },
 "nbformat": 4,
 "nbformat_minor": 2
}
