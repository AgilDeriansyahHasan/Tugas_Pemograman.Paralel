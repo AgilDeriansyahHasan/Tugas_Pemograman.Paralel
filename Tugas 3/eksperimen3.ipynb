{
 "cells": [
  {
   "cell_type": "code",
   "execution_count": null,
   "metadata": {},
   "outputs": [],
   "source": [
    "import threading\n",
    "import time\n",
    "\n",
    "# Membuat lock\n",
    "lock = threading.Lock()\n",
    "\n",
    "# Fungsi untuk menampilkan angka\n",
    "def print_numbers():\n",
    "    for i in range(1, 6):\n",
    "        time.sleep(1)\n",
    "        # Mengunci sebelum mencetak\n",
    "        lock.acquire()\n",
    "        print(f\"Number: {i}\")\n",
    "        lock.release()\n",
    "\n",
    "# Fungsi untuk menampilkan huruf\n",
    "def print_letters():\n",
    "    for letter in ['A', 'B', 'C', 'D', 'E']:\n",
    "        time.sleep(1.5)\n",
    "        # Mengunci sebelum mencetak\n",
    "        lock.acquire()\n",
    "        print(f\"Letter: {letter}\")\n",
    "        lock.release()\n",
    "\n",
    "# Membuat dua thread\n",
    "thread1 = threading.Thread(target=print_numbers)\n",
    "thread2 = threading.Thread(target=print_letters)\n",
    "\n",
    "# Memulai thread\n",
    "print(\"Starting threads...\")\n",
    "thread1.start()\n",
    "thread2.start()\n",
    "\n",
    "# Menunggu thread selesai\n",
    "thread1.join()\n",
    "thread2.join()\n",
    "\n",
    "print(\"Both threads have finished execution.\")\n"
   ]
  }
 ],
 "metadata": {
  "language_info": {
   "name": "python"
  }
 },
 "nbformat": 4,
 "nbformat_minor": 2
}
