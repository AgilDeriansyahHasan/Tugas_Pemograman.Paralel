{
 "cells": [
  {
   "cell_type": "code",
   "execution_count": null,
   "metadata": {},
   "outputs": [],
   "source": [
    "import threading\n",
    "import time\n",
    "\n",
    "# Membuat event\n",
    "stop_event = threading.Event()\n",
    "\n",
    "# Fungsi untuk mencetak angka, berhenti jika event ter-set\n",
    "def print_numbers():\n",
    "    for i in range(1, 11):\n",
    "        if stop_event.is_set():\n",
    "            print(\"Stopping thread early!\")\n",
    "            break\n",
    "        time.sleep(1)\n",
    "        print(f\"Number: {i}\")\n",
    "\n",
    "# Membuat thread\n",
    "thread1 = threading.Thread(target=print_numbers)\n",
    "\n",
    "# Memulai thread\n",
    "print(\"Starting thread...\")\n",
    "thread1.start()\n",
    "\n",
    "# Menghentikan thread setelah 5 detik\n",
    "time.sleep(5)\n",
    "stop_event.set()\n",
    "\n",
    "# Menunggu thread selesai\n",
    "thread1.join()\n",
    "\n",
    "print(\"Thread stopped.\")\n"
   ]
  }
 ],
 "metadata": {
  "language_info": {
   "name": "python"
  }
 },
 "nbformat": 4,
 "nbformat_minor": 2
}
