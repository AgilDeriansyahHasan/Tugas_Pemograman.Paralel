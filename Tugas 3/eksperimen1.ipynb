{
 "cells": [
  {
   "cell_type": "code",
   "execution_count": 2,
   "metadata": {},
   "outputs": [
    {
     "name": "stdout",
     "output_type": "stream",
     "text": [
      "Starting threads...\n",
      "Symbol: !\n",
      "Number: 1\n",
      "Symbol: @\n",
      "Letter: A\n",
      "Number: 2\n",
      "Symbol: #\n",
      "Symbol: $\n",
      "Letter: B\n",
      "Number: 3\n",
      "Symbol: %\n",
      "Number: 4\n",
      "Letter: C\n",
      "Number: 5\n",
      "Letter: D\n",
      "Letter: E\n",
      "All threads have finished execution.\n"
     ]
    }
   ],
   "source": [
    "import threading\n",
    "import time\n",
    "\n",
    "# Fungsi untuk menampilkan angka\n",
    "def print_numbers():\n",
    "    for i in range(1, 6):\n",
    "        time.sleep(1)\n",
    "        print(f\"Number: {i}\")\n",
    "\n",
    "# Fungsi untuk menampilkan huruf\n",
    "def print_letters():\n",
    "    for letter in ['A', 'B', 'C', 'D', 'E']:\n",
    "        time.sleep(1.5)\n",
    "        print(f\"Letter: {letter}\")\n",
    "\n",
    "# Fungsi untuk menampilkan simbol\n",
    "def print_symbols():\n",
    "    for symbol in ['!', '@', '#', '$', '%']:\n",
    "        time.sleep(0.7)\n",
    "        print(f\"Symbol: {symbol}\")\n",
    "\n",
    "# Membuat tiga thread\n",
    "thread1 = threading.Thread(target=print_numbers)\n",
    "thread2 = threading.Thread(target=print_letters)\n",
    "thread3 = threading.Thread(target=print_symbols)\n",
    "\n",
    "# Memulai thread\n",
    "print(\"Starting threads...\")\n",
    "thread1.start()\n",
    "thread2.start()\n",
    "thread3.start()\n",
    "\n",
    "# Menunggu semua thread selesai\n",
    "thread1.join()\n",
    "thread2.join()\n",
    "thread3.join()\n",
    "\n",
    "print(\"All threads have finished execution.\")\n"
   ]
  }
 ],
 "metadata": {
  "kernelspec": {
   "display_name": "Python 3",
   "language": "python",
   "name": "python3"
  },
  "language_info": {
   "codemirror_mode": {
    "name": "ipython",
    "version": 3
   },
   "file_extension": ".py",
   "mimetype": "text/x-python",
   "name": "python",
   "nbconvert_exporter": "python",
   "pygments_lexer": "ipython3",
   "version": "3.12.6"
  }
 },
 "nbformat": 4,
 "nbformat_minor": 2
}
