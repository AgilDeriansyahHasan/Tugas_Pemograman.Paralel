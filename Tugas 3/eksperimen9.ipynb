{
 "cells": [
  {
   "cell_type": "code",
   "execution_count": null,
   "metadata": {},
   "outputs": [],
   "source": [
    "import threading\n",
    "import time\n",
    "\n",
    "# Membuat semaphore yang hanya mengizinkan 2 thread aktif di waktu yang sama\n",
    "semaphore = threading.Semaphore(2)\n",
    "\n",
    "# Fungsi untuk mencetak angka dengan akses terbatas\n",
    "def print_numbers(n):\n",
    "    with semaphore:  # Masuk ke dalam semaphore\n",
    "        print(f\"Thread {n} is running\")\n",
    "        time.sleep(2)\n",
    "        print(f\"Thread {n} is done\")\n",
    "\n",
    "# Membuat beberapa thread\n",
    "threads = []\n",
    "for i in range(1, 6):\n",
    "    thread = threading.Thread(target=print_numbers, args=(i,))\n",
    "    threads.append(thread)\n",
    "\n",
    "# Memulai semua thread\n",
    "for thread in threads:\n",
    "    thread.start()\n",
    "\n",
    "# Menunggu semua thread selesai\n",
    "for thread in threads:\n",
    "    thread.join()\n",
    "\n",
    "print(\"All threads have finished execution.\")\n"
   ]
  }
 ],
 "metadata": {
  "language_info": {
   "name": "python"
  }
 },
 "nbformat": 4,
 "nbformat_minor": 2
}
