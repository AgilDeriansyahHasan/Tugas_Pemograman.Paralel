{
 "cells": [
  {
   "cell_type": "code",
   "execution_count": null,
   "metadata": {},
   "outputs": [],
   "source": [
    "import threading\n",
    "import time\n",
    "\n",
    "# Fungsi dengan argumen\n",
    "def print_custom_range(start, end):\n",
    "    for i in range(start, end + 1):\n",
    "        time.sleep(1)\n",
    "        print(f\"Number: {i}\")\n",
    "\n",
    "# Membuat thread dengan argumen\n",
    "thread1 = threading.Thread(target=print_custom_range, args=(1, 5))\n",
    "thread2 = threading.Thread(target=print_custom_range, args=(6, 10))\n",
    "\n",
    "# Memulai thread\n",
    "print(\"Starting threads...\")\n",
    "thread1.start()\n",
    "thread2.start()\n",
    "\n",
    "# Menunggu thread selesai\n",
    "thread1.join()\n",
    "thread2.join()\n",
    "\n",
    "print(\"Both threads have finished execution.\")\n"
   ]
  }
 ],
 "metadata": {
  "language_info": {
   "name": "python"
  }
 },
 "nbformat": 4,
 "nbformat_minor": 2
}
