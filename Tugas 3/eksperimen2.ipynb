{
 "cells": [
  {
   "cell_type": "code",
   "execution_count": null,
   "metadata": {},
   "outputs": [],
   "source": [
    "import threading\n",
    "import time\n",
    "\n",
    "# Fungsi untuk menampilkan angka\n",
    "def print_numbers():\n",
    "    for i in range(1, 6):\n",
    "        time.sleep(1)\n",
    "        print(f\"Number: {i}\")\n",
    "\n",
    "# Fungsi untuk menampilkan huruf\n",
    "def print_letters():\n",
    "    for letter in ['A', 'B', 'C', 'D', 'E']:\n",
    "        time.sleep(1.5)\n",
    "        print(f\"Letter: {letter}\")\n",
    "\n",
    "# Membuat dua thread\n",
    "thread1 = threading.Thread(target=print_numbers)\n",
    "thread2 = threading.Thread(target=print_letters)\n",
    "\n",
    "# Menjadikan thread kedua sebagai daemon\n",
    "thread2.daemon = True\n",
    "\n",
    "# Memulai thread\n",
    "print(\"Starting threads...\")\n",
    "thread1.start()\n",
    "thread2.start()\n",
    "\n",
    "# Menunggu thread pertama selesai (thread daemon tidak dijamin selesai)\n",
    "thread1.join()\n",
    "\n",
    "print(\"Main thread has finished execution.\")\n"
   ]
  }
 ],
 "metadata": {
  "language_info": {
   "name": "python"
  }
 },
 "nbformat": 4,
 "nbformat_minor": 2
}
